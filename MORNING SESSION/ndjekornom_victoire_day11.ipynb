{
 "cells": [
  {
   "cell_type": "code",
   "execution_count": null,
   "metadata": {},
   "outputs": [],
   "source": [
    "# Machine learning\n",
    "# Types of machine learning: Supervised learning, Unsupervised learning, Reinforcement learning\n",
    "# Data preprocessing\n",
    "# Data cleaning\n",
    "# Steps:\n",
    "# Check for \n",
    "# 1 Duplicates, wrong format, wrong data, empty cells, missing data\n",
    "# Age 23, 230, 1.33, 1.44, 1.50, wrong format: 1/7/2024, 2/7/2024, 372024, 4/7/2024, NaN, 6/7/2024, Age in BSE, 23, 20, 12, 19, 41\n",
    "#  "
   ]
  },
  {
   "cell_type": "code",
   "execution_count": null,
   "metadata": {},
   "outputs": [],
   "source": [
    "# Exploratory data analysis\n",
    "# Steps\n",
    "# Descriptive statistics\n",
    "# Measure of Central Tendancy, Mean, Median, Mode, \n",
    "# "
   ]
  },
  {
   "cell_type": "code",
   "execution_count": null,
   "metadata": {},
   "outputs": [],
   "source": [
    "# Tools for data visualization\n",
    "# Matplotlib: Line, bar, scatter, and histogram\n",
    "# Seaborn: Themes, color palettes, looks more attractive\n",
    "# Plotly, Bokeh"
   ]
  },
  {
   "cell_type": "code",
   "execution_count": null,
   "metadata": {},
   "outputs": [],
   "source": [
    "# Feature Engineering\n",
    "# Selection, Filter like chi-score, ANOVA\n",
    "# Wrapper recursive features\n",
    "# Embedded, Lasso regression\n",
    "\n",
    "# Features scalling and Normalization\n",
    "\n",
    "# Normalization Rescale to a range, [Age, 21-28]\n",
    "# Standard deviation, trandform std\n",
    "# Create new features"
   ]
  },
  {
   "cell_type": "code",
   "execution_count": null,
   "metadata": {},
   "outputs": [],
   "source": [
    "# Data Splitting\n",
    "# Training and evaluation of a model\n",
    "# Most common ratios: 20 testing, 80 training, 30, 70\n",
    "# Import from sklearn train_test_split"
   ]
  },
  {
   "cell_type": "code",
   "execution_count": null,
   "metadata": {},
   "outputs": [],
   "source": [
    "# Random state is used to shuffle data before splitting it into a training and test set\n",
    "\n",
    "# Cross validation- evaluate the performance of the data, multiple folds\n",
    "# Types are, train/test we can use K-fold Cross validation\n",
    "# Statified k-Fold. Ensure our distribution of the target variable, particularly used in the imbalance datset\n",
    "# Cross validation helps in reducing variance in model performance estimates\n",
    "# Provides a comprehensive evaluation of model performance"
   ]
  },
  {
   "cell_type": "code",
   "execution_count": null,
   "metadata": {},
   "outputs": [],
   "source": [
    "# Supervised learning Algorithm\n",
    "# Regression: linear, polynomial\n",
    "# Classification: Logistic regression, K-nearest neightbors(knn), \n",
    "# Support vector Machine, Decision tree, random forest\n",
    "# Model evaluation\n",
    "# Metrics: Accuracy, Precission, , Recall, F1-score\n",
    "# Confussion matrix\n",
    "# AUC and ROC, Area under the curve, Receiver Operation characteristics curve\n"
   ]
  },
  {
   "cell_type": "code",
   "execution_count": null,
   "metadata": {},
   "outputs": [],
   "source": [
    "# Summary \n",
    "# Supervised learning deals with labeled data, used to predict output for new input\n",
    "# Common task: Classification, and Regression\n",
    "\n",
    "# Summary: Unsupervised loearning\n",
    "# uses unlebed data, find hidden or structures in data\n",
    "# Common task: Clustering, Dimensionality, Association Rule Learning"
   ]
  }
 ],
 "metadata": {
  "language_info": {
   "name": "python"
  }
 },
 "nbformat": 4,
 "nbformat_minor": 2
}
