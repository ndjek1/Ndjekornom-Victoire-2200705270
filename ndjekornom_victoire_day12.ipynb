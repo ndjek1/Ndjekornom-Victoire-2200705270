{
 "cells": [
  {
   "cell_type": "code",
   "execution_count": null,
   "metadata": {},
   "outputs": [],
   "source": [
    "# #age: Age of the patient in years.\n",
    "# sex: Sex of the patient. (1 = male, 0 = female)\n",
    "# cp (chest pain type):\n",
    "# 0: Typical angina\n",
    "# 1: Atypical angina\n",
    "# 2: Non-anginal pain\n",
    "# 3: Asymptomatic\n",
    "# trestbps (resting blood pressure): Resting blood pressure in mm Hg on admission to the hospital.\n",
    "# chol (serum cholestoral): Serum cholesterol in mg/dl.\n",
    "# fbs (fasting blood sugar): Fasting blood sugar > 120 mg/dl. (1 = true, 0 = false)\n",
    "# restecg (resting electrocardiographic results):\n",
    "# 0: Normal\n",
    "# 1: Having ST-T wave abnormality (T wave inversions and/or ST elevation or depression of > 0.05 mV)\n",
    "# 2: Showing probable or definite left ventricular hypertrophy by Estes' criteria\n",
    "# thalach (maximum heart rate achieved): Maximum heart rate achieved during the test.\n",
    "# exang (exercise-induced angina): Exercise-induced angina. (1 = yes, 0 = no)\n",
    "# oldpeak : ST depression induced by exercise relative to rest.\n",
    "# slope (the slope of the peak exercise ST segment):\n",
    "# 0: Upsloping\n",
    "# 1: Flat\n",
    "# 2: Downsloping\n",
    "# ca (number of major vessels colored by fluoroscopy): Number of major vessels (0-3) colored by fluoroscopy.\n",
    "# thal (thalassemia):\n",
    "# 1: Normal\n",
    "# 2: Fixed defect\n",
    "# 3: Reversible defect"
   ]
  },
  {
   "cell_type": "code",
   "execution_count": null,
   "metadata": {},
   "outputs": [],
   "source": [
    "import pandas as pd\n",
    "import seaborn as sns\n",
    "import matplotlib.pyplot as plt\n",
    "import numpy as np\n",
    "\n",
    "# Load the data\n",
    "data = pd.read_csv('heart.csv')\n",
    "\n",
    "# Basic Information\n",
    "print(\"Basic info\")\n",
    "print(data.info())\n",
    "print(data.describe())\n",
    "\n"
   ]
  },
  {
   "cell_type": "code",
   "execution_count": null,
   "metadata": {},
   "outputs": [],
   "source": [
    "\n",
    "# Missing Values\n",
    "print(\"Missing values\")\n",
    "print(data.isnull().sum())\n",
    "\n"
   ]
  },
  {
   "cell_type": "code",
   "execution_count": null,
   "metadata": {},
   "outputs": [],
   "source": [
    "# Univariate Analysis - Categorical Variables\n",
    "print(\"Universal analysis categorical variables\")\n",
    "categorical_columns = ['sex', 'cp', 'fbs', 'restecg', 'exang', 'slope', 'ca', 'thal', 'target']\n",
    "for col in categorical_columns:\n",
    "    sns.countplot(x=col, data=data)\n",
    "    plt.title(f'Distribution of {col}')\n",
    "    plt.show()\n"
   ]
  },
  {
   "cell_type": "code",
   "execution_count": null,
   "metadata": {},
   "outputs": [],
   "source": [
    "\n",
    "# Univariate Analysis - Numerical Variables\n",
    "print(\"Universal analysis numerical variables\")\n",
    "numerical_columns = ['age', 'trestbps', 'chol', 'thalach', 'oldpeak']\n",
    "for col in numerical_columns:\n",
    "    sns.histplot(data[col], kde=True)\n",
    "    plt.title(f'Distribution of {col}')\n",
    "    plt.show()\n",
    "    sns.boxplot(x=data[col])\n",
    "    plt.title(f'Boxplot of {col}')\n",
    "    plt.show()\n"
   ]
  },
  {
   "cell_type": "code",
   "execution_count": null,
   "metadata": {},
   "outputs": [],
   "source": [
    "\n",
    "# Bivariate Analysis - Categorical vs Target\n",
    "print(\"Bivariable analysis categorical variables vs target\")\n",
    "for col in categorical_columns[:-1]:  # exclude target itself\n",
    "    sns.countplot(x=col, hue='target', data=data)\n",
    "    plt.title(f'{col} vs Target')\n",
    "    plt.show()\n"
   ]
  },
  {
   "cell_type": "code",
   "execution_count": null,
   "metadata": {},
   "outputs": [],
   "source": [
    "\n",
    "# Bivariate Analysis - Numerical vs Target\n",
    "print(\"Bivariable analysis numerical variables vs target\")\n",
    "for col in numerical_columns:\n",
    "    sns.boxplot(x='target', y=col, data=data)\n",
    "    plt.title(f'{col} vs Target')\n",
    "    plt.show()\n",
    "    sns.violinplot(x='target', y=col, data=data)\n",
    "    plt.title(f'{col} vs Target')\n",
    "    plt.show()\n"
   ]
  },
  {
   "cell_type": "code",
   "execution_count": null,
   "metadata": {},
   "outputs": [],
   "source": [
    "\n",
    "# Pair Plot\n",
    "print('Pair plot')\n",
    "sns.pairplot(data)\n",
    "plt.show()\n"
   ]
  },
  {
   "cell_type": "code",
   "execution_count": null,
   "metadata": {},
   "outputs": [],
   "source": [
    "\n",
    "# Correlation Heatmap\n",
    "plt.figure(figsize=(12, 8))\n",
    "sns.heatmap(data.corr(), annot=True, cmap='coolwarm')\n",
    "plt.title('Correlation Heatmap')\n",
    "plt.show()\n"
   ]
  },
  {
   "cell_type": "code",
   "execution_count": null,
   "metadata": {},
   "outputs": [],
   "source": [
    "\n",
    "# Groupby Statistics\n",
    "print(\"Group by stats\")\n",
    "print(data.groupby('target').mean())\n",
    "\n",
    "# Detecting Outliers using IQR\n",
    "print(\"Outlayers using IQR\")\n",
    "for col in numerical_columns:\n",
    "    Q1 = data[col].quantile(0.25)\n",
    "    Q3 = data[col].quantile(0.75)\n",
    "    IQR = Q3 - Q1\n",
    "    outliers = data[(data[col] < (Q1 - 1.5 * IQR)) | (data[col] > (Q3 + 1.5 * IQR))]\n",
    "    print(f'Outliers in {col}:')\n",
    "    print(outliers)"
   ]
  },
  {
   "cell_type": "code",
   "execution_count": null,
   "metadata": {},
   "outputs": [],
   "source": [
    "# Features engineering\n",
    "# Select 10 best features based on the chi-squared test\n",
    "from sklearn.feature_selection import SelectKBest, chi2\n",
    "\n",
    "selector = SelectKBest(chi2,k= 10)\n",
    "X = data.drop(columns=['target'])\n",
    "y = data['target']\n",
    "\n",
    "X_new  = selector.fit_transform(X, y)\n",
    "selected_features = X.columns[selector.get_support()]\n",
    "print(selected_features)\n"
   ]
  },
  {
   "cell_type": "code",
   "execution_count": null,
   "metadata": {},
   "outputs": [],
   "source": [
    "# Splitting data into training and testing sets\n",
    "from sklearn.model_selection import train_test_split\n",
    "\n",
    "X = data.drop(columns=['target'])\n",
    "y = data['target']\n",
    "\n",
    "X_train, X_test, y_train, y_test = train_test_split(X, y, test_size=0.2, random_state=42)"
   ]
  },
  {
   "cell_type": "code",
   "execution_count": null,
   "metadata": {},
   "outputs": [],
   "source": [
    "# Train and evaluate\n",
    "\n",
    "from sklearn.metrics import accuracy_score, precision_score, recall_score, f1_score\n",
    "from sklearn.linear_model import LogisticRegression\n",
    "from sklearn.ensemble import RandomForestClassifier\n",
    "from sklearn.svm import SVC\n",
    "\n",
    "# Define the models\n",
    "models = {\n",
    "    'Logistic Regression': LogisticRegression(max_iter=1000),\n",
    "    'Random Forest': RandomForestClassifier(n_estimators=100),\n",
    "    'Support Vector Machine': SVC(kernel='linear')\n",
    "}\n",
    "\n",
    "# Train and evaluate each model\n",
    "results = {}\n",
    "for model_name, model in models.items():\n",
    "    model.fit(X_train, y_train)\n",
    "    y_pred = model.predict(X_test)\n",
    "    \n",
    "\n",
    "    accuracy = accuracy_score(y_test, y_pred)\n",
    "    precision = precision_score(y_test, y_pred)\n",
    "    recall = recall_score(y_test, y_pred)\n",
    "    f1 = f1_score(y_test, y_pred)\n",
    "    \n",
    "    results[model_name] = {\n",
    "        'Accuracy': accuracy,\n",
    "        'Precision': precision,\n",
    "        'Recall': recall,\n",
    "        'F1 Score': f1,\n",
    "    }\n",
    "\n",
    "# Display the results\n",
    "results_df = pd.DataFrame(results).T\n",
    "print(results_df)"
   ]
  },
  {
   "cell_type": "code",
   "execution_count": null,
   "metadata": {},
   "outputs": [],
   "source": [
    "# Make a prediction\n",
    "\n",
    "new_data = pd.DataFrame({\n",
    "    'age': [63, 45],\n",
    "    'sex': [1, 0],\n",
    "    'cp': [3, 2],\n",
    "    'trestbps': [145, 130],\n",
    "    'chol': [100, 245],\n",
    "    'fbs': [1, 0],\n",
    "    'restecg': [0, 1],\n",
    "    'thalach': [150, 234],\n",
    "    'exang': [0, 1],\n",
    "    'oldpeak': [2.3, 0.5],\n",
    "    'slope': [1, 2],\n",
    "    'ca': [0, 1],\n",
    "    'thal': [3, 2]\n",
    "})\n",
    "\n",
    "results = {}\n",
    "for model_name, model in models.items():\n",
    "    y_pred = model.predict(new_data)\n",
    "    \n",
    "   \n",
    "    \n",
    "    results[model_name] = {\n",
    "        'Prediction': y_pred,\n",
    "    \n",
    "    }\n",
    "\n",
    "pred_df = pd.DataFrame(results)\n",
    "\n",
    "pred_df"
   ]
  }
 ],
 "metadata": {
  "language_info": {
   "name": "python"
  }
 },
 "nbformat": 4,
 "nbformat_minor": 2
}
